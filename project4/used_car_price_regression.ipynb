{
 "cells": [
  {
   "cell_type": "code",
   "execution_count": 1,
   "id": "c9049bf4-be24-4537-810d-8635c0756426",
   "metadata": {},
   "outputs": [
    {
     "name": "stderr",
     "output_type": "stream",
     "text": [
      "2024-05-20 20:30:24.729320: I tensorflow/core/platform/cpu_feature_guard.cc:210] This TensorFlow binary is optimized to use available CPU instructions in performance-critical operations.\n",
      "To enable the following instructions: AVX2 FMA, in other operations, rebuild TensorFlow with the appropriate compiler flags.\n"
     ]
    }
   ],
   "source": [
    "import pandas as pd \n",
    "import numpy as np\n",
    "import tensorflow as tf \n",
    "from tensorflow import keras \n",
    "import matplotlib.pyplot as plt "
   ]
  },
  {
   "cell_type": "code",
   "execution_count": 2,
   "id": "94295f39-1b00-4ab2-8153-8ce35c52507b",
   "metadata": {},
   "outputs": [
    {
     "data": {
      "text/html": [
       "<div>\n",
       "<style scoped>\n",
       "    .dataframe tbody tr th:only-of-type {\n",
       "        vertical-align: middle;\n",
       "    }\n",
       "\n",
       "    .dataframe tbody tr th {\n",
       "        vertical-align: top;\n",
       "    }\n",
       "\n",
       "    .dataframe thead th {\n",
       "        text-align: right;\n",
       "    }\n",
       "</style>\n",
       "<table border=\"1\" class=\"dataframe\">\n",
       "  <thead>\n",
       "    <tr style=\"text-align: right;\">\n",
       "      <th></th>\n",
       "      <th>Car_ID</th>\n",
       "      <th>Brand</th>\n",
       "      <th>Model</th>\n",
       "      <th>Year</th>\n",
       "      <th>Kilometers_Driven</th>\n",
       "      <th>Fuel_Type</th>\n",
       "      <th>Transmission</th>\n",
       "      <th>Owner_Type</th>\n",
       "      <th>Mileage</th>\n",
       "      <th>Engine</th>\n",
       "      <th>Power</th>\n",
       "      <th>Seats</th>\n",
       "      <th>Price</th>\n",
       "    </tr>\n",
       "  </thead>\n",
       "  <tbody>\n",
       "    <tr>\n",
       "      <th>0</th>\n",
       "      <td>1</td>\n",
       "      <td>Toyota</td>\n",
       "      <td>Corolla</td>\n",
       "      <td>2018</td>\n",
       "      <td>50000</td>\n",
       "      <td>Petrol</td>\n",
       "      <td>Manual</td>\n",
       "      <td>First</td>\n",
       "      <td>15</td>\n",
       "      <td>1498</td>\n",
       "      <td>108</td>\n",
       "      <td>5</td>\n",
       "      <td>800000</td>\n",
       "    </tr>\n",
       "    <tr>\n",
       "      <th>1</th>\n",
       "      <td>2</td>\n",
       "      <td>Honda</td>\n",
       "      <td>Civic</td>\n",
       "      <td>2019</td>\n",
       "      <td>40000</td>\n",
       "      <td>Petrol</td>\n",
       "      <td>Automatic</td>\n",
       "      <td>Second</td>\n",
       "      <td>17</td>\n",
       "      <td>1597</td>\n",
       "      <td>140</td>\n",
       "      <td>5</td>\n",
       "      <td>1000000</td>\n",
       "    </tr>\n",
       "    <tr>\n",
       "      <th>2</th>\n",
       "      <td>3</td>\n",
       "      <td>Ford</td>\n",
       "      <td>Mustang</td>\n",
       "      <td>2017</td>\n",
       "      <td>20000</td>\n",
       "      <td>Petrol</td>\n",
       "      <td>Automatic</td>\n",
       "      <td>First</td>\n",
       "      <td>10</td>\n",
       "      <td>4951</td>\n",
       "      <td>395</td>\n",
       "      <td>4</td>\n",
       "      <td>2500000</td>\n",
       "    </tr>\n",
       "    <tr>\n",
       "      <th>3</th>\n",
       "      <td>4</td>\n",
       "      <td>Maruti</td>\n",
       "      <td>Swift</td>\n",
       "      <td>2020</td>\n",
       "      <td>30000</td>\n",
       "      <td>Diesel</td>\n",
       "      <td>Manual</td>\n",
       "      <td>Third</td>\n",
       "      <td>23</td>\n",
       "      <td>1248</td>\n",
       "      <td>74</td>\n",
       "      <td>5</td>\n",
       "      <td>600000</td>\n",
       "    </tr>\n",
       "    <tr>\n",
       "      <th>4</th>\n",
       "      <td>5</td>\n",
       "      <td>Hyundai</td>\n",
       "      <td>Sonata</td>\n",
       "      <td>2016</td>\n",
       "      <td>60000</td>\n",
       "      <td>Diesel</td>\n",
       "      <td>Automatic</td>\n",
       "      <td>Second</td>\n",
       "      <td>18</td>\n",
       "      <td>1999</td>\n",
       "      <td>194</td>\n",
       "      <td>5</td>\n",
       "      <td>850000</td>\n",
       "    </tr>\n",
       "  </tbody>\n",
       "</table>\n",
       "</div>"
      ],
      "text/plain": [
       "   Car_ID    Brand    Model  Year  Kilometers_Driven Fuel_Type Transmission  \\\n",
       "0       1   Toyota  Corolla  2018              50000    Petrol       Manual   \n",
       "1       2    Honda    Civic  2019              40000    Petrol    Automatic   \n",
       "2       3     Ford  Mustang  2017              20000    Petrol    Automatic   \n",
       "3       4   Maruti    Swift  2020              30000    Diesel       Manual   \n",
       "4       5  Hyundai   Sonata  2016              60000    Diesel    Automatic   \n",
       "\n",
       "  Owner_Type  Mileage  Engine  Power  Seats    Price  \n",
       "0      First       15    1498    108      5   800000  \n",
       "1     Second       17    1597    140      5  1000000  \n",
       "2      First       10    4951    395      4  2500000  \n",
       "3      Third       23    1248     74      5   600000  \n",
       "4     Second       18    1999    194      5   850000  "
      ]
     },
     "execution_count": 2,
     "metadata": {},
     "output_type": "execute_result"
    }
   ],
   "source": [
    "df = pd.read_csv('cars.csv')\n",
    "df.head()"
   ]
  },
  {
   "cell_type": "code",
   "execution_count": 3,
   "id": "a48ecd1e-d9be-4a44-875e-fb7bd3f157df",
   "metadata": {},
   "outputs": [
    {
     "name": "stdout",
     "output_type": "stream",
     "text": [
      "<class 'pandas.core.frame.DataFrame'>\n",
      "RangeIndex: 100 entries, 0 to 99\n",
      "Data columns (total 13 columns):\n",
      " #   Column             Non-Null Count  Dtype \n",
      "---  ------             --------------  ----- \n",
      " 0   Car_ID             100 non-null    int64 \n",
      " 1   Brand              100 non-null    object\n",
      " 2   Model              100 non-null    object\n",
      " 3   Year               100 non-null    int64 \n",
      " 4   Kilometers_Driven  100 non-null    int64 \n",
      " 5   Fuel_Type          100 non-null    object\n",
      " 6   Transmission       100 non-null    object\n",
      " 7   Owner_Type         100 non-null    object\n",
      " 8   Mileage            100 non-null    int64 \n",
      " 9   Engine             100 non-null    int64 \n",
      " 10  Power              100 non-null    int64 \n",
      " 11  Seats              100 non-null    int64 \n",
      " 12  Price              100 non-null    int64 \n",
      "dtypes: int64(8), object(5)\n",
      "memory usage: 10.3+ KB\n"
     ]
    }
   ],
   "source": [
    "df.info()"
   ]
  },
  {
   "cell_type": "code",
   "execution_count": 4,
   "id": "0995ee3c-c721-46cf-92fc-bd3c1ad77867",
   "metadata": {},
   "outputs": [
    {
     "data": {
      "text/html": [
       "<div>\n",
       "<style scoped>\n",
       "    .dataframe tbody tr th:only-of-type {\n",
       "        vertical-align: middle;\n",
       "    }\n",
       "\n",
       "    .dataframe tbody tr th {\n",
       "        vertical-align: top;\n",
       "    }\n",
       "\n",
       "    .dataframe thead th {\n",
       "        text-align: right;\n",
       "    }\n",
       "</style>\n",
       "<table border=\"1\" class=\"dataframe\">\n",
       "  <thead>\n",
       "    <tr style=\"text-align: right;\">\n",
       "      <th></th>\n",
       "      <th>count</th>\n",
       "      <th>mean</th>\n",
       "      <th>std</th>\n",
       "      <th>min</th>\n",
       "      <th>25%</th>\n",
       "      <th>50%</th>\n",
       "      <th>75%</th>\n",
       "      <th>max</th>\n",
       "    </tr>\n",
       "  </thead>\n",
       "  <tbody>\n",
       "    <tr>\n",
       "      <th>Car_ID</th>\n",
       "      <td>100.0</td>\n",
       "      <td>50.50</td>\n",
       "      <td>2.901149e+01</td>\n",
       "      <td>1.0</td>\n",
       "      <td>25.75</td>\n",
       "      <td>50.5</td>\n",
       "      <td>75.25</td>\n",
       "      <td>100.0</td>\n",
       "    </tr>\n",
       "    <tr>\n",
       "      <th>Year</th>\n",
       "      <td>100.0</td>\n",
       "      <td>2018.39</td>\n",
       "      <td>1.171160e+00</td>\n",
       "      <td>2016.0</td>\n",
       "      <td>2017.75</td>\n",
       "      <td>2018.0</td>\n",
       "      <td>2019.00</td>\n",
       "      <td>2021.0</td>\n",
       "    </tr>\n",
       "    <tr>\n",
       "      <th>Kilometers_Driven</th>\n",
       "      <td>100.0</td>\n",
       "      <td>28150.00</td>\n",
       "      <td>9.121376e+03</td>\n",
       "      <td>10000.0</td>\n",
       "      <td>22000.00</td>\n",
       "      <td>27000.0</td>\n",
       "      <td>32000.00</td>\n",
       "      <td>60000.0</td>\n",
       "    </tr>\n",
       "    <tr>\n",
       "      <th>Mileage</th>\n",
       "      <td>100.0</td>\n",
       "      <td>17.21</td>\n",
       "      <td>3.309902e+00</td>\n",
       "      <td>10.0</td>\n",
       "      <td>15.00</td>\n",
       "      <td>17.0</td>\n",
       "      <td>19.00</td>\n",
       "      <td>25.0</td>\n",
       "    </tr>\n",
       "    <tr>\n",
       "      <th>Engine</th>\n",
       "      <td>100.0</td>\n",
       "      <td>1855.23</td>\n",
       "      <td>6.313115e+02</td>\n",
       "      <td>999.0</td>\n",
       "      <td>1462.00</td>\n",
       "      <td>1774.0</td>\n",
       "      <td>2143.00</td>\n",
       "      <td>4951.0</td>\n",
       "    </tr>\n",
       "    <tr>\n",
       "      <th>Power</th>\n",
       "      <td>100.0</td>\n",
       "      <td>158.13</td>\n",
       "      <td>7.696814e+01</td>\n",
       "      <td>68.0</td>\n",
       "      <td>103.00</td>\n",
       "      <td>148.0</td>\n",
       "      <td>187.00</td>\n",
       "      <td>396.0</td>\n",
       "    </tr>\n",
       "    <tr>\n",
       "      <th>Seats</th>\n",
       "      <td>100.0</td>\n",
       "      <td>5.23</td>\n",
       "      <td>7.501515e-01</td>\n",
       "      <td>4.0</td>\n",
       "      <td>5.00</td>\n",
       "      <td>5.0</td>\n",
       "      <td>5.00</td>\n",
       "      <td>7.0</td>\n",
       "    </tr>\n",
       "    <tr>\n",
       "      <th>Price</th>\n",
       "      <td>100.0</td>\n",
       "      <td>1574000.00</td>\n",
       "      <td>1.000265e+06</td>\n",
       "      <td>450000.0</td>\n",
       "      <td>700000.00</td>\n",
       "      <td>1300000.0</td>\n",
       "      <td>2500000.00</td>\n",
       "      <td>4000000.0</td>\n",
       "    </tr>\n",
       "  </tbody>\n",
       "</table>\n",
       "</div>"
      ],
      "text/plain": [
       "                   count        mean           std       min        25%  \\\n",
       "Car_ID             100.0       50.50  2.901149e+01       1.0      25.75   \n",
       "Year               100.0     2018.39  1.171160e+00    2016.0    2017.75   \n",
       "Kilometers_Driven  100.0    28150.00  9.121376e+03   10000.0   22000.00   \n",
       "Mileage            100.0       17.21  3.309902e+00      10.0      15.00   \n",
       "Engine             100.0     1855.23  6.313115e+02     999.0    1462.00   \n",
       "Power              100.0      158.13  7.696814e+01      68.0     103.00   \n",
       "Seats              100.0        5.23  7.501515e-01       4.0       5.00   \n",
       "Price              100.0  1574000.00  1.000265e+06  450000.0  700000.00   \n",
       "\n",
       "                         50%         75%        max  \n",
       "Car_ID                  50.5       75.25      100.0  \n",
       "Year                  2018.0     2019.00     2021.0  \n",
       "Kilometers_Driven    27000.0    32000.00    60000.0  \n",
       "Mileage                 17.0       19.00       25.0  \n",
       "Engine                1774.0     2143.00     4951.0  \n",
       "Power                  148.0      187.00      396.0  \n",
       "Seats                    5.0        5.00        7.0  \n",
       "Price              1300000.0  2500000.00  4000000.0  "
      ]
     },
     "execution_count": 4,
     "metadata": {},
     "output_type": "execute_result"
    }
   ],
   "source": [
    "df.describe().T"
   ]
  },
  {
   "cell_type": "code",
   "execution_count": 5,
   "id": "3aa3ead0-b316-49f0-95a4-9e042724f18d",
   "metadata": {},
   "outputs": [
    {
     "data": {
      "text/plain": [
       "Car_ID               0\n",
       "Brand                0\n",
       "Model                0\n",
       "Year                 0\n",
       "Kilometers_Driven    0\n",
       "Fuel_Type            0\n",
       "Transmission         0\n",
       "Owner_Type           0\n",
       "Mileage              0\n",
       "Engine               0\n",
       "Power                0\n",
       "Seats                0\n",
       "Price                0\n",
       "dtype: int64"
      ]
     },
     "execution_count": 5,
     "metadata": {},
     "output_type": "execute_result"
    }
   ],
   "source": [
    "df.isnull().sum()"
   ]
  },
  {
   "cell_type": "code",
   "execution_count": 6,
   "id": "13d9e3cf-118f-424a-a4e3-f498a040389d",
   "metadata": {},
   "outputs": [],
   "source": [
    "df.columns = [i.lower() for i in df.columns]"
   ]
  },
  {
   "cell_type": "code",
   "execution_count": 7,
   "id": "71a0d025-cb22-45d0-bddd-b101b036a34d",
   "metadata": {},
   "outputs": [
    {
     "data": {
      "image/png": "[encoded data removed]",
      "text/plain": [
       "<Figure size 640x480 with 1 Axes>"
      ]
     },
     "metadata": {},
     "output_type": "display_data"
    }
   ],
   "source": [
    "(df['brand'].value_counts(ascending=True)).plot(kind = 'barh', edgecolor = 'k')\n",
    "plt.title('Car Count by Brand')\n",
    "plt.xlabel('Count')\n",
    "plt.ylabel('Brand')\n",
    "plt.show()"
   ]
  },
  {
   "cell_type": "markdown",
   "id": "8ab44860-c8fd-4bc8-a0ca-6b8400bcda0d",
   "metadata": {},
   "source": [
    "Models of Each Brand"
   ]
  },
  {
   "cell_type": "code",
   "execution_count": 8,
   "id": "a5e92cf2-a05f-4ea6-b258-99446ed2064c",
   "metadata": {},
   "outputs": [
    {
     "data": {
      "text/plain": [
       "brand       model        \n",
       "Audi        A3               2\n",
       "            A5               2\n",
       "            A6               2\n",
       "            Q7               2\n",
       "            Q3               1\n",
       "            A4               1\n",
       "BMW         3 Series         2\n",
       "            7 Series         2\n",
       "            X3               2\n",
       "            X5               2\n",
       "            5 Series         1\n",
       "            X1               1\n",
       "Ford        Mustang          3\n",
       "            Ranger           2\n",
       "            Aspire           2\n",
       "            EcoSport         2\n",
       "            Figo             1\n",
       "            Endeavour        1\n",
       "Honda       BR-V             2\n",
       "            WR-V             2\n",
       "            Civic            1\n",
       "            City             1\n",
       "Hyundai     Verna            3\n",
       "            Santro           2\n",
       "            Venue            2\n",
       "            Elantra          2\n",
       "            Creta            1\n",
       "            Sonata           1\n",
       "Mahindra    XUV300           2\n",
       "            Thar             2\n",
       "            Scorpio          1\n",
       "Maruti      S-Cross          2\n",
       "            Vitara           2\n",
       "            Ertiga           1\n",
       "            Swift            1\n",
       "Mercedes    C-Class          3\n",
       "            E-Class          2\n",
       "            GLA              2\n",
       "            GLE              2\n",
       "            GLC              1\n",
       "Tata        Altroz           3\n",
       "            Safari           2\n",
       "            Tiago            2\n",
       "            Tigor            2\n",
       "            Nexon            1\n",
       "            Harrier          1\n",
       "Toyota      Camry            2\n",
       "            Fortuner         2\n",
       "            Innova Crysta    2\n",
       "            Yaris            2\n",
       "            Innova           1\n",
       "            Corolla          1\n",
       "Volkswagen  Ameo             2\n",
       "            Passat           2\n",
       "            T-Roc            2\n",
       "            Vento            2\n",
       "            Tiguan           1\n",
       "            Polo             1\n",
       "Name: count, dtype: int64"
      ]
     },
     "execution_count": 8,
     "metadata": {},
     "output_type": "execute_result"
    }
   ],
   "source": [
    "df.groupby('brand')['model'].value_counts()\n"
   ]
  },
  {
   "cell_type": "markdown",
   "id": "1c680c93-03fc-45b3-a9ed-386956a3581c",
   "metadata": {},
   "source": [
    "Unique Models"
   ]
  },
  {
   "cell_type": "code",
   "execution_count": 9,
   "id": "0f2a8cb7-555c-4ac2-9c72-4d77378ad456",
   "metadata": {},
   "outputs": [
    {
     "data": {
      "text/plain": [
       "array(['Corolla', 'Civic', 'Mustang', 'Swift', 'Sonata', 'Nexon',\n",
       "       'Scorpio', 'Polo', 'A4', 'X1', 'C-Class', 'Endeavour', 'Creta',\n",
       "       'Harrier', 'Ertiga', 'City', 'Tiguan', 'Q3', '5 Series', 'GLC',\n",
       "       'Innova', 'Figo', 'Verna', 'Altroz', 'Thar', 'Passat', 'A6', 'X3',\n",
       "       'E-Class', 'Fortuner', 'Aspire', 'Elantra', 'Safari', 'Vitara',\n",
       "       'WR-V', 'Ameo', 'A3', '7 Series', 'GLE', 'Yaris', 'Ranger',\n",
       "       'Santro', 'Tigor', 'S-Cross', 'BR-V', 'T-Roc', 'Q7', 'X5', 'GLA',\n",
       "       'Camry', 'Venue', 'Tiago', 'XUV300', 'Vento', 'A5', '3 Series',\n",
       "       'Innova Crysta', 'EcoSport'], dtype=object)"
      ]
     },
     "execution_count": 9,
     "metadata": {},
     "output_type": "execute_result"
    }
   ],
   "source": [
    "df['model'].unique()"
   ]
  },
  {
   "cell_type": "code",
   "execution_count": 10,
   "id": "0448c214-a138-45f8-8655-88f35a9c9eef",
   "metadata": {},
   "outputs": [
    {
     "data": {
      "text/plain": [
       "Index(['car_id', 'brand', 'model', 'year', 'kilometers_driven', 'fuel_type',\n",
       "       'transmission', 'owner_type', 'mileage', 'engine', 'power', 'seats',\n",
       "       'price'],\n",
       "      dtype='object')"
      ]
     },
     "execution_count": 10,
     "metadata": {},
     "output_type": "execute_result"
    }
   ],
   "source": [
    "df.columns"
   ]
  },
  {
   "cell_type": "code",
   "execution_count": 11,
   "id": "508f828e-242c-4510-b6b9-9bdc0c6bd960",
   "metadata": {},
   "outputs": [],
   "source": [
    "numerical_cols = ['year','kilometers_driven', 'mileage', 'engine', 'power', 'seats']\n",
    "categorical_cols = ['brand','model', 'fuel_type', 'transmission', 'owner_type']"
   ]
  },
  {
   "cell_type": "code",
   "execution_count": 12,
   "id": "561c4e65-e837-47ad-9090-8de4a17061bc",
   "metadata": {},
   "outputs": [],
   "source": [
    "df = df.drop('car_id',axis =1)"
   ]
  },
  {
   "cell_type": "code",
   "execution_count": 13,
   "id": "4363a12b-9df5-40d1-99da-4523997ea679",
   "metadata": {},
   "outputs": [
    {
     "data": {
      "image/png": "[encoded data removed]",
      "text/plain": [
       "<Figure size 640x480 with 1 Axes>"
      ]
     },
     "metadata": {},
     "output_type": "display_data"
    }
   ],
   "source": [
    "plt.scatter(df.price,df.kilometers_driven)\n",
    "plt.xlabel('Price')\n",
    "plt.ylabel('Kilometers Driven')\n",
    "plt.show()"
   ]
  },
  {
   "cell_type": "code",
   "execution_count": 14,
   "id": "f5616a56-a298-4577-9ca6-471ba20e6632",
   "metadata": {},
   "outputs": [
    {
     "data": {
      "text/html": [
       "<div>\n",
       "<style scoped>\n",
       "    .dataframe tbody tr th:only-of-type {\n",
       "        vertical-align: middle;\n",
       "    }\n",
       "\n",
       "    .dataframe tbody tr th {\n",
       "        vertical-align: top;\n",
       "    }\n",
       "\n",
       "    .dataframe thead th {\n",
       "        text-align: right;\n",
       "    }\n",
       "</style>\n",
       "<table border=\"1\" class=\"dataframe\">\n",
       "  <thead>\n",
       "    <tr style=\"text-align: right;\">\n",
       "      <th></th>\n",
       "      <th>brand</th>\n",
       "      <th>model</th>\n",
       "      <th>year</th>\n",
       "      <th>kilometers_driven</th>\n",
       "      <th>fuel_type</th>\n",
       "      <th>transmission</th>\n",
       "      <th>owner_type</th>\n",
       "      <th>mileage</th>\n",
       "      <th>engine</th>\n",
       "      <th>power</th>\n",
       "      <th>seats</th>\n",
       "      <th>price</th>\n",
       "    </tr>\n",
       "  </thead>\n",
       "  <tbody>\n",
       "    <tr>\n",
       "      <th>0</th>\n",
       "      <td>Toyota</td>\n",
       "      <td>Corolla</td>\n",
       "      <td>2018</td>\n",
       "      <td>50000</td>\n",
       "      <td>Petrol</td>\n",
       "      <td>Manual</td>\n",
       "      <td>First</td>\n",
       "      <td>15</td>\n",
       "      <td>1498</td>\n",
       "      <td>108</td>\n",
       "      <td>5</td>\n",
       "      <td>800000</td>\n",
       "    </tr>\n",
       "    <tr>\n",
       "      <th>1</th>\n",
       "      <td>Honda</td>\n",
       "      <td>Civic</td>\n",
       "      <td>2019</td>\n",
       "      <td>40000</td>\n",
       "      <td>Petrol</td>\n",
       "      <td>Automatic</td>\n",
       "      <td>Second</td>\n",
       "      <td>17</td>\n",
       "      <td>1597</td>\n",
       "      <td>140</td>\n",
       "      <td>5</td>\n",
       "      <td>1000000</td>\n",
       "    </tr>\n",
       "    <tr>\n",
       "      <th>2</th>\n",
       "      <td>Ford</td>\n",
       "      <td>Mustang</td>\n",
       "      <td>2017</td>\n",
       "      <td>20000</td>\n",
       "      <td>Petrol</td>\n",
       "      <td>Automatic</td>\n",
       "      <td>First</td>\n",
       "      <td>10</td>\n",
       "      <td>4951</td>\n",
       "      <td>395</td>\n",
       "      <td>4</td>\n",
       "      <td>2500000</td>\n",
       "    </tr>\n",
       "    <tr>\n",
       "      <th>3</th>\n",
       "      <td>Maruti</td>\n",
       "      <td>Swift</td>\n",
       "      <td>2020</td>\n",
       "      <td>30000</td>\n",
       "      <td>Diesel</td>\n",
       "      <td>Manual</td>\n",
       "      <td>Third</td>\n",
       "      <td>23</td>\n",
       "      <td>1248</td>\n",
       "      <td>74</td>\n",
       "      <td>5</td>\n",
       "      <td>600000</td>\n",
       "    </tr>\n",
       "    <tr>\n",
       "      <th>4</th>\n",
       "      <td>Hyundai</td>\n",
       "      <td>Sonata</td>\n",
       "      <td>2016</td>\n",
       "      <td>60000</td>\n",
       "      <td>Diesel</td>\n",
       "      <td>Automatic</td>\n",
       "      <td>Second</td>\n",
       "      <td>18</td>\n",
       "      <td>1999</td>\n",
       "      <td>194</td>\n",
       "      <td>5</td>\n",
       "      <td>850000</td>\n",
       "    </tr>\n",
       "  </tbody>\n",
       "</table>\n",
       "</div>"
      ],
      "text/plain": [
       "     brand    model  year  kilometers_driven fuel_type transmission  \\\n",
       "0   Toyota  Corolla  2018              50000    Petrol       Manual   \n",
       "1    Honda    Civic  2019              40000    Petrol    Automatic   \n",
       "2     Ford  Mustang  2017              20000    Petrol    Automatic   \n",
       "3   Maruti    Swift  2020              30000    Diesel       Manual   \n",
       "4  Hyundai   Sonata  2016              60000    Diesel    Automatic   \n",
       "\n",
       "  owner_type  mileage  engine  power  seats    price  \n",
       "0      First       15    1498    108      5   800000  \n",
       "1     Second       17    1597    140      5  1000000  \n",
       "2      First       10    4951    395      4  2500000  \n",
       "3      Third       23    1248     74      5   600000  \n",
       "4     Second       18    1999    194      5   850000  "
      ]
     },
     "execution_count": 14,
     "metadata": {},
     "output_type": "execute_result"
    }
   ],
   "source": [
    "df.head()"
   ]
  },
  {
   "cell_type": "code",
   "execution_count": 15,
   "id": "2d10b677-578c-4c04-9e65-4411ef80089c",
   "metadata": {},
   "outputs": [
    {
     "data": {
      "image/png": "[encoded data removed]",
      "text/plain": [
       "<Figure size 640x480 with 1 Axes>"
      ]
     },
     "metadata": {},
     "output_type": "display_data"
    }
   ],
   "source": [
    "df.groupby('brand')['price'].mean().plot(kind = 'bar', color = 'green')\n",
    "plt.title('Average Selling Price by Brand')\n",
    "plt.xlabel('Price')\n",
    "plt.ylabel('Brand')\n",
    "plt.show()"
   ]
  },
  {
   "cell_type": "code",
   "execution_count": 16,
   "id": "63e07ae0-1c57-4b02-9a6a-2ad8f0305495",
   "metadata": {},
   "outputs": [
    {
     "data": {
      "text/plain": [
       "Text(0, 0.5, 'Price')"
      ]
     },
     "execution_count": 16,
     "metadata": {},
     "output_type": "execute_result"
    },
    {
     "data": {
      "image/png": "[encoded data removed]",
      "text/plain": [
       "<Figure size 640x480 with 1 Axes>"
      ]
     },
     "metadata": {},
     "output_type": "display_data"
    }
   ],
   "source": [
    "df.groupby(['owner_type'])['price'].mean().plot(kind='bar', edgecolor ='black')\n",
    "plt.title('Price by owner type')\n",
    "plt.xlabel('Owner Type')\n",
    "plt.ylabel('Price')"
   ]
  },
  {
   "cell_type": "code",
   "execution_count": 17,
   "id": "486d0358-0d4d-4af9-b128-e9b9dc9f23db",
   "metadata": {},
   "outputs": [
    {
     "data": {
      "text/plain": [
       "Text(0, 0.5, 'Price')"
      ]
     },
     "execution_count": 17,
     "metadata": {},
     "output_type": "execute_result"
    },
    {
     "data": {
      "image/png": "[encoded data removed]",
      "text/plain": [
       "<Figure size 640x480 with 1 Axes>"
      ]
     },
     "metadata": {},
     "output_type": "display_data"
    }
   ],
   "source": [
    "df.groupby(['transmission'])['price'].mean().plot(kind='bar', edgecolor ='black')\n",
    "plt.title('Price by type of transmission')\n",
    "plt.xlabel('Transmission Type')\n",
    "plt.ylabel('Price')"
   ]
  },
  {
   "cell_type": "markdown",
   "id": "5cfc02d7-f1f3-451a-9dff-44d5291fc40c",
   "metadata": {},
   "source": [
    "relation between engine power and price"
   ]
  },
  {
   "cell_type": "code",
   "execution_count": 18,
   "id": "9b7a3b82-a1cc-4ab2-9787-879064918d62",
   "metadata": {},
   "outputs": [
    {
     "data": {
      "image/png": "[encoded data removed]",
      "text/plain": [
       "<Figure size 640x480 with 1 Axes>"
      ]
     },
     "metadata": {},
     "output_type": "display_data"
    }
   ],
   "source": [
    "plt.scatter(df.power, df.price, color = 'orange', edgecolor = 'k')\n",
    "plt.xlabel('Power')\n",
    "plt.ylabel('Price')\n",
    "plt.title('Relation b/w power and price')\n",
    "plt.show()"
   ]
  },
  {
   "cell_type": "code",
   "execution_count": 19,
   "id": "b6c22798-675e-4938-ba54-373411411324",
   "metadata": {},
   "outputs": [
    {
     "data": {
      "image/png": "[encoded data removed]",
      "text/plain": [
       "<Figure size 640x480 with 1 Axes>"
      ]
     },
     "metadata": {},
     "output_type": "display_data"
    }
   ],
   "source": [
    "df.groupby('fuel_type')['price'].mean().plot(kind = 'bar', color = 'grey',\n",
    "                                            edgecolor ='k')\n",
    "plt.xlabel('Type of Fuel')\n",
    "plt.ylabel('Price')\n",
    "plt.title('Price vs Type of Fuel')\n",
    "plt.show()"
   ]
  },
  {
   "cell_type": "code",
   "execution_count": 20,
   "id": "e0aa81ce-8643-4c29-9677-0c116fdb03af",
   "metadata": {},
   "outputs": [
    {
     "data": {
      "text/html": [
       "<div>\n",
       "<style scoped>\n",
       "    .dataframe tbody tr th:only-of-type {\n",
       "        vertical-align: middle;\n",
       "    }\n",
       "\n",
       "    .dataframe tbody tr th {\n",
       "        vertical-align: top;\n",
       "    }\n",
       "\n",
       "    .dataframe thead th {\n",
       "        text-align: right;\n",
       "    }\n",
       "</style>\n",
       "<table border=\"1\" class=\"dataframe\">\n",
       "  <thead>\n",
       "    <tr style=\"text-align: right;\">\n",
       "      <th></th>\n",
       "      <th>brand</th>\n",
       "      <th>model</th>\n",
       "      <th>year</th>\n",
       "      <th>kilometers_driven</th>\n",
       "      <th>fuel_type</th>\n",
       "      <th>transmission</th>\n",
       "      <th>owner_type</th>\n",
       "      <th>mileage</th>\n",
       "      <th>engine</th>\n",
       "      <th>power</th>\n",
       "      <th>seats</th>\n",
       "      <th>price</th>\n",
       "    </tr>\n",
       "  </thead>\n",
       "  <tbody>\n",
       "    <tr>\n",
       "      <th>0</th>\n",
       "      <td>Toyota</td>\n",
       "      <td>Corolla</td>\n",
       "      <td>2018</td>\n",
       "      <td>50000</td>\n",
       "      <td>Petrol</td>\n",
       "      <td>Manual</td>\n",
       "      <td>First</td>\n",
       "      <td>15</td>\n",
       "      <td>1498</td>\n",
       "      <td>108</td>\n",
       "      <td>5</td>\n",
       "      <td>800000</td>\n",
       "    </tr>\n",
       "    <tr>\n",
       "      <th>1</th>\n",
       "      <td>Honda</td>\n",
       "      <td>Civic</td>\n",
       "      <td>2019</td>\n",
       "      <td>40000</td>\n",
       "      <td>Petrol</td>\n",
       "      <td>Automatic</td>\n",
       "      <td>Second</td>\n",
       "      <td>17</td>\n",
       "      <td>1597</td>\n",
       "      <td>140</td>\n",
       "      <td>5</td>\n",
       "      <td>1000000</td>\n",
       "    </tr>\n",
       "    <tr>\n",
       "      <th>2</th>\n",
       "      <td>Ford</td>\n",
       "      <td>Mustang</td>\n",
       "      <td>2017</td>\n",
       "      <td>20000</td>\n",
       "      <td>Petrol</td>\n",
       "      <td>Automatic</td>\n",
       "      <td>First</td>\n",
       "      <td>10</td>\n",
       "      <td>4951</td>\n",
       "      <td>395</td>\n",
       "      <td>4</td>\n",
       "      <td>2500000</td>\n",
       "    </tr>\n",
       "    <tr>\n",
       "      <th>3</th>\n",
       "      <td>Maruti</td>\n",
       "      <td>Swift</td>\n",
       "      <td>2020</td>\n",
       "      <td>30000</td>\n",
       "      <td>Diesel</td>\n",
       "      <td>Manual</td>\n",
       "      <td>Third</td>\n",
       "      <td>23</td>\n",
       "      <td>1248</td>\n",
       "      <td>74</td>\n",
       "      <td>5</td>\n",
       "      <td>600000</td>\n",
       "    </tr>\n",
       "    <tr>\n",
       "      <th>4</th>\n",
       "      <td>Hyundai</td>\n",
       "      <td>Sonata</td>\n",
       "      <td>2016</td>\n",
       "      <td>60000</td>\n",
       "      <td>Diesel</td>\n",
       "      <td>Automatic</td>\n",
       "      <td>Second</td>\n",
       "      <td>18</td>\n",
       "      <td>1999</td>\n",
       "      <td>194</td>\n",
       "      <td>5</td>\n",
       "      <td>850000</td>\n",
       "    </tr>\n",
       "    <tr>\n",
       "      <th>...</th>\n",
       "      <td>...</td>\n",
       "      <td>...</td>\n",
       "      <td>...</td>\n",
       "      <td>...</td>\n",
       "      <td>...</td>\n",
       "      <td>...</td>\n",
       "      <td>...</td>\n",
       "      <td>...</td>\n",
       "      <td>...</td>\n",
       "      <td>...</td>\n",
       "      <td>...</td>\n",
       "      <td>...</td>\n",
       "    </tr>\n",
       "    <tr>\n",
       "      <th>95</th>\n",
       "      <td>Mercedes</td>\n",
       "      <td>C-Class</td>\n",
       "      <td>2019</td>\n",
       "      <td>22000</td>\n",
       "      <td>Diesel</td>\n",
       "      <td>Automatic</td>\n",
       "      <td>First</td>\n",
       "      <td>16</td>\n",
       "      <td>1950</td>\n",
       "      <td>191</td>\n",
       "      <td>5</td>\n",
       "      <td>2900000</td>\n",
       "    </tr>\n",
       "    <tr>\n",
       "      <th>96</th>\n",
       "      <td>Toyota</td>\n",
       "      <td>Innova Crysta</td>\n",
       "      <td>2017</td>\n",
       "      <td>38000</td>\n",
       "      <td>Diesel</td>\n",
       "      <td>Manual</td>\n",
       "      <td>Second</td>\n",
       "      <td>13</td>\n",
       "      <td>2755</td>\n",
       "      <td>171</td>\n",
       "      <td>7</td>\n",
       "      <td>1400000</td>\n",
       "    </tr>\n",
       "    <tr>\n",
       "      <th>97</th>\n",
       "      <td>Ford</td>\n",
       "      <td>EcoSport</td>\n",
       "      <td>2018</td>\n",
       "      <td>26000</td>\n",
       "      <td>Petrol</td>\n",
       "      <td>Manual</td>\n",
       "      <td>Third</td>\n",
       "      <td>18</td>\n",
       "      <td>1497</td>\n",
       "      <td>121</td>\n",
       "      <td>5</td>\n",
       "      <td>750000</td>\n",
       "    </tr>\n",
       "    <tr>\n",
       "      <th>98</th>\n",
       "      <td>Hyundai</td>\n",
       "      <td>Verna</td>\n",
       "      <td>2019</td>\n",
       "      <td>24000</td>\n",
       "      <td>Petrol</td>\n",
       "      <td>Automatic</td>\n",
       "      <td>Second</td>\n",
       "      <td>17</td>\n",
       "      <td>1497</td>\n",
       "      <td>113</td>\n",
       "      <td>5</td>\n",
       "      <td>850000</td>\n",
       "    </tr>\n",
       "    <tr>\n",
       "      <th>99</th>\n",
       "      <td>Tata</td>\n",
       "      <td>Altroz</td>\n",
       "      <td>2020</td>\n",
       "      <td>18000</td>\n",
       "      <td>Petrol</td>\n",
       "      <td>Manual</td>\n",
       "      <td>First</td>\n",
       "      <td>20</td>\n",
       "      <td>1199</td>\n",
       "      <td>85</td>\n",
       "      <td>5</td>\n",
       "      <td>600000</td>\n",
       "    </tr>\n",
       "  </tbody>\n",
       "</table>\n",
       "<p>100 rows × 12 columns</p>\n",
       "</div>"
      ],
      "text/plain": [
       "       brand          model  year  kilometers_driven fuel_type transmission  \\\n",
       "0     Toyota        Corolla  2018              50000    Petrol       Manual   \n",
       "1      Honda          Civic  2019              40000    Petrol    Automatic   \n",
       "2       Ford        Mustang  2017              20000    Petrol    Automatic   \n",
       "3     Maruti          Swift  2020              30000    Diesel       Manual   \n",
       "4    Hyundai         Sonata  2016              60000    Diesel    Automatic   \n",
       "..       ...            ...   ...                ...       ...          ...   \n",
       "95  Mercedes        C-Class  2019              22000    Diesel    Automatic   \n",
       "96    Toyota  Innova Crysta  2017              38000    Diesel       Manual   \n",
       "97      Ford       EcoSport  2018              26000    Petrol       Manual   \n",
       "98   Hyundai          Verna  2019              24000    Petrol    Automatic   \n",
       "99      Tata         Altroz  2020              18000    Petrol       Manual   \n",
       "\n",
       "   owner_type  mileage  engine  power  seats    price  \n",
       "0       First       15    1498    108      5   800000  \n",
       "1      Second       17    1597    140      5  1000000  \n",
       "2       First       10    4951    395      4  2500000  \n",
       "3       Third       23    1248     74      5   600000  \n",
       "4      Second       18    1999    194      5   850000  \n",
       "..        ...      ...     ...    ...    ...      ...  \n",
       "95      First       16    1950    191      5  2900000  \n",
       "96     Second       13    2755    171      7  1400000  \n",
       "97      Third       18    1497    121      5   750000  \n",
       "98     Second       17    1497    113      5   850000  \n",
       "99      First       20    1199     85      5   600000  \n",
       "\n",
       "[100 rows x 12 columns]"
      ]
     },
     "execution_count": 20,
     "metadata": {},
     "output_type": "execute_result"
    }
   ],
   "source": [
    "df"
   ]
  },
  {
   "cell_type": "code",
   "execution_count": 21,
   "id": "6879f47a-144e-41d0-ab3f-001be2f1ed91",
   "metadata": {},
   "outputs": [
    {
     "data": {
      "image/png": "[encoded data removed]",
      "text/plain": [
       "<Figure size 640x480 with 1 Axes>"
      ]
     },
     "metadata": {},
     "output_type": "display_data"
    }
   ],
   "source": [
    "plt.scatter(df.year, df.price, color = 'red', edgecolor = 'white')\n",
    "plt.xlabel('Year of Production')\n",
    "plt.ylabel('Price')\n",
    "plt.title('Price w.r.t Year of Production')\n",
    "plt.show()"
   ]
  },
  {
   "cell_type": "code",
   "execution_count": 22,
   "id": "51ad5547-1a06-4100-aca0-8e8a68ed6134",
   "metadata": {},
   "outputs": [
    {
     "data": {
      "image/png": "[encoded data removed]",
      "text/plain": [
       "<Figure size 640x480 with 1 Axes>"
      ]
     },
     "metadata": {},
     "output_type": "display_data"
    }
   ],
   "source": [
    "plt.scatter(df.engine, df.price, color = 'purple', edgecolor = 'white')\n",
    "plt.xlabel('Engine Power')\n",
    "plt.ylabel('Price')\n",
    "plt.title('Price w.r.t Engine Power')\n",
    "plt.show()"
   ]
  },
  {
   "cell_type": "code",
   "execution_count": 23,
   "id": "3c36e159-8cc5-4d6f-8414-82e436abc9d3",
   "metadata": {},
   "outputs": [],
   "source": [
    "from sklearn.pipeline import FeatureUnion"
   ]
  },
  {
   "cell_type": "code",
   "execution_count": 24,
   "id": "59812d57-c537-4d8b-8a1c-1efd4c03adff",
   "metadata": {},
   "outputs": [],
   "source": [
    "from sklearn.preprocessing import OneHotEncoder"
   ]
  },
  {
   "cell_type": "code",
   "execution_count": 25,
   "id": "a24151ce-e8ec-4b0f-9306-7d6b87326f77",
   "metadata": {},
   "outputs": [
    {
     "data": {
      "text/html": [
       "<div>\n",
       "<style scoped>\n",
       "    .dataframe tbody tr th:only-of-type {\n",
       "        vertical-align: middle;\n",
       "    }\n",
       "\n",
       "    .dataframe tbody tr th {\n",
       "        vertical-align: top;\n",
       "    }\n",
       "\n",
       "    .dataframe thead th {\n",
       "        text-align: right;\n",
       "    }\n",
       "</style>\n",
       "<table border=\"1\" class=\"dataframe\">\n",
       "  <thead>\n",
       "    <tr style=\"text-align: right;\">\n",
       "      <th></th>\n",
       "      <th>brand</th>\n",
       "      <th>model</th>\n",
       "      <th>fuel_type</th>\n",
       "      <th>transmission</th>\n",
       "      <th>owner_type</th>\n",
       "    </tr>\n",
       "  </thead>\n",
       "  <tbody>\n",
       "    <tr>\n",
       "      <th>0</th>\n",
       "      <td>Toyota</td>\n",
       "      <td>Corolla</td>\n",
       "      <td>Petrol</td>\n",
       "      <td>Manual</td>\n",
       "      <td>First</td>\n",
       "    </tr>\n",
       "    <tr>\n",
       "      <th>1</th>\n",
       "      <td>Honda</td>\n",
       "      <td>Civic</td>\n",
       "      <td>Petrol</td>\n",
       "      <td>Automatic</td>\n",
       "      <td>Second</td>\n",
       "    </tr>\n",
       "    <tr>\n",
       "      <th>2</th>\n",
       "      <td>Ford</td>\n",
       "      <td>Mustang</td>\n",
       "      <td>Petrol</td>\n",
       "      <td>Automatic</td>\n",
       "      <td>First</td>\n",
       "    </tr>\n",
       "    <tr>\n",
       "      <th>3</th>\n",
       "      <td>Maruti</td>\n",
       "      <td>Swift</td>\n",
       "      <td>Diesel</td>\n",
       "      <td>Manual</td>\n",
       "      <td>Third</td>\n",
       "    </tr>\n",
       "    <tr>\n",
       "      <th>4</th>\n",
       "      <td>Hyundai</td>\n",
       "      <td>Sonata</td>\n",
       "      <td>Diesel</td>\n",
       "      <td>Automatic</td>\n",
       "      <td>Second</td>\n",
       "    </tr>\n",
       "    <tr>\n",
       "      <th>...</th>\n",
       "      <td>...</td>\n",
       "      <td>...</td>\n",
       "      <td>...</td>\n",
       "      <td>...</td>\n",
       "      <td>...</td>\n",
       "    </tr>\n",
       "    <tr>\n",
       "      <th>95</th>\n",
       "      <td>Mercedes</td>\n",
       "      <td>C-Class</td>\n",
       "      <td>Diesel</td>\n",
       "      <td>Automatic</td>\n",
       "      <td>First</td>\n",
       "    </tr>\n",
       "    <tr>\n",
       "      <th>96</th>\n",
       "      <td>Toyota</td>\n",
       "      <td>Innova Crysta</td>\n",
       "      <td>Diesel</td>\n",
       "      <td>Manual</td>\n",
       "      <td>Second</td>\n",
       "    </tr>\n",
       "    <tr>\n",
       "      <th>97</th>\n",
       "      <td>Ford</td>\n",
       "      <td>EcoSport</td>\n",
       "      <td>Petrol</td>\n",
       "      <td>Manual</td>\n",
       "      <td>Third</td>\n",
       "    </tr>\n",
       "    <tr>\n",
       "      <th>98</th>\n",
       "      <td>Hyundai</td>\n",
       "      <td>Verna</td>\n",
       "      <td>Petrol</td>\n",
       "      <td>Automatic</td>\n",
       "      <td>Second</td>\n",
       "    </tr>\n",
       "    <tr>\n",
       "      <th>99</th>\n",
       "      <td>Tata</td>\n",
       "      <td>Altroz</td>\n",
       "      <td>Petrol</td>\n",
       "      <td>Manual</td>\n",
       "      <td>First</td>\n",
       "    </tr>\n",
       "  </tbody>\n",
       "</table>\n",
       "<p>100 rows × 5 columns</p>\n",
       "</div>"
      ],
      "text/plain": [
       "       brand          model fuel_type transmission owner_type\n",
       "0     Toyota        Corolla    Petrol       Manual      First\n",
       "1      Honda          Civic    Petrol    Automatic     Second\n",
       "2       Ford        Mustang    Petrol    Automatic      First\n",
       "3     Maruti          Swift    Diesel       Manual      Third\n",
       "4    Hyundai         Sonata    Diesel    Automatic     Second\n",
       "..       ...            ...       ...          ...        ...\n",
       "95  Mercedes        C-Class    Diesel    Automatic      First\n",
       "96    Toyota  Innova Crysta    Diesel       Manual     Second\n",
       "97      Ford       EcoSport    Petrol       Manual      Third\n",
       "98   Hyundai          Verna    Petrol    Automatic     Second\n",
       "99      Tata         Altroz    Petrol       Manual      First\n",
       "\n",
       "[100 rows x 5 columns]"
      ]
     },
     "execution_count": 25,
     "metadata": {},
     "output_type": "execute_result"
    }
   ],
   "source": [
    "df[categorical_cols]"
   ]
  },
  {
   "cell_type": "code",
   "execution_count": 26,
   "id": "346da1ba-313c-4850-bbda-4b2d5908a60f",
   "metadata": {},
   "outputs": [
    {
     "data": {
      "text/html": [
       "<div>\n",
       "<style scoped>\n",
       "    .dataframe tbody tr th:only-of-type {\n",
       "        vertical-align: middle;\n",
       "    }\n",
       "\n",
       "    .dataframe tbody tr th {\n",
       "        vertical-align: top;\n",
       "    }\n",
       "\n",
       "    .dataframe thead th {\n",
       "        text-align: right;\n",
       "    }\n",
       "</style>\n",
       "<table border=\"1\" class=\"dataframe\">\n",
       "  <thead>\n",
       "    <tr style=\"text-align: right;\">\n",
       "      <th></th>\n",
       "      <th>year</th>\n",
       "      <th>kilometers_driven</th>\n",
       "      <th>mileage</th>\n",
       "      <th>engine</th>\n",
       "      <th>power</th>\n",
       "      <th>seats</th>\n",
       "    </tr>\n",
       "  </thead>\n",
       "  <tbody>\n",
       "    <tr>\n",
       "      <th>0</th>\n",
       "      <td>2018</td>\n",
       "      <td>50000</td>\n",
       "      <td>15</td>\n",
       "      <td>1498</td>\n",
       "      <td>108</td>\n",
       "      <td>5</td>\n",
       "    </tr>\n",
       "    <tr>\n",
       "      <th>1</th>\n",
       "      <td>2019</td>\n",
       "      <td>40000</td>\n",
       "      <td>17</td>\n",
       "      <td>1597</td>\n",
       "      <td>140</td>\n",
       "      <td>5</td>\n",
       "    </tr>\n",
       "    <tr>\n",
       "      <th>2</th>\n",
       "      <td>2017</td>\n",
       "      <td>20000</td>\n",
       "      <td>10</td>\n",
       "      <td>4951</td>\n",
       "      <td>395</td>\n",
       "      <td>4</td>\n",
       "    </tr>\n",
       "    <tr>\n",
       "      <th>3</th>\n",
       "      <td>2020</td>\n",
       "      <td>30000</td>\n",
       "      <td>23</td>\n",
       "      <td>1248</td>\n",
       "      <td>74</td>\n",
       "      <td>5</td>\n",
       "    </tr>\n",
       "    <tr>\n",
       "      <th>4</th>\n",
       "      <td>2016</td>\n",
       "      <td>60000</td>\n",
       "      <td>18</td>\n",
       "      <td>1999</td>\n",
       "      <td>194</td>\n",
       "      <td>5</td>\n",
       "    </tr>\n",
       "    <tr>\n",
       "      <th>...</th>\n",
       "      <td>...</td>\n",
       "      <td>...</td>\n",
       "      <td>...</td>\n",
       "      <td>...</td>\n",
       "      <td>...</td>\n",
       "      <td>...</td>\n",
       "    </tr>\n",
       "    <tr>\n",
       "      <th>95</th>\n",
       "      <td>2019</td>\n",
       "      <td>22000</td>\n",
       "      <td>16</td>\n",
       "      <td>1950</td>\n",
       "      <td>191</td>\n",
       "      <td>5</td>\n",
       "    </tr>\n",
       "    <tr>\n",
       "      <th>96</th>\n",
       "      <td>2017</td>\n",
       "      <td>38000</td>\n",
       "      <td>13</td>\n",
       "      <td>2755</td>\n",
       "      <td>171</td>\n",
       "      <td>7</td>\n",
       "    </tr>\n",
       "    <tr>\n",
       "      <th>97</th>\n",
       "      <td>2018</td>\n",
       "      <td>26000</td>\n",
       "      <td>18</td>\n",
       "      <td>1497</td>\n",
       "      <td>121</td>\n",
       "      <td>5</td>\n",
       "    </tr>\n",
       "    <tr>\n",
       "      <th>98</th>\n",
       "      <td>2019</td>\n",
       "      <td>24000</td>\n",
       "      <td>17</td>\n",
       "      <td>1497</td>\n",
       "      <td>113</td>\n",
       "      <td>5</td>\n",
       "    </tr>\n",
       "    <tr>\n",
       "      <th>99</th>\n",
       "      <td>2020</td>\n",
       "      <td>18000</td>\n",
       "      <td>20</td>\n",
       "      <td>1199</td>\n",
       "      <td>85</td>\n",
       "      <td>5</td>\n",
       "    </tr>\n",
       "  </tbody>\n",
       "</table>\n",
       "<p>100 rows × 6 columns</p>\n",
       "</div>"
      ],
      "text/plain": [
       "    year  kilometers_driven  mileage  engine  power  seats\n",
       "0   2018              50000       15    1498    108      5\n",
       "1   2019              40000       17    1597    140      5\n",
       "2   2017              20000       10    4951    395      4\n",
       "3   2020              30000       23    1248     74      5\n",
       "4   2016              60000       18    1999    194      5\n",
       "..   ...                ...      ...     ...    ...    ...\n",
       "95  2019              22000       16    1950    191      5\n",
       "96  2017              38000       13    2755    171      7\n",
       "97  2018              26000       18    1497    121      5\n",
       "98  2019              24000       17    1497    113      5\n",
       "99  2020              18000       20    1199     85      5\n",
       "\n",
       "[100 rows x 6 columns]"
      ]
     },
     "execution_count": 26,
     "metadata": {},
     "output_type": "execute_result"
    }
   ],
   "source": [
    "df[numerical_cols]"
   ]
  },
  {
   "cell_type": "code",
   "execution_count": 27,
   "id": "59716897-0060-4195-8551-f10c21c7a358",
   "metadata": {},
   "outputs": [],
   "source": [
    "from sklearn.pipeline import Pipeline"
   ]
  },
  {
   "cell_type": "code",
   "execution_count": 28,
   "id": "985d5704-b24d-4827-9d0a-dd8746ceeac0",
   "metadata": {},
   "outputs": [],
   "source": [
    "from sklearn.preprocessing import StandardScaler"
   ]
  },
  {
   "cell_type": "code",
   "execution_count": 29,
   "id": "5e529bc8-2b67-402a-926b-509008c03788",
   "metadata": {},
   "outputs": [],
   "source": [
    "from sklearn.base import BaseEstimator, TransformerMixin\n",
    "class DataFrameSelector(BaseEstimator, TransformerMixin):\n",
    "    def __init__(self, attribute_names):\n",
    "        self.attribute_names = attribute_names\n",
    "    def fit(self, X, y=None):\n",
    "        return self\n",
    "    def transform(self, X):\n",
    "        return X[self.attribute_names].values"
   ]
  },
  {
   "cell_type": "code",
   "execution_count": 30,
   "id": "a602e994-02a0-4470-ab43-86c9119c56f3",
   "metadata": {},
   "outputs": [],
   "source": [
    "num_pipeline = Pipeline([\n",
    "    ('selector', DataFrameSelector(numerical_cols)),\n",
    "    ('scaler', StandardScaler())\n",
    "    ])\n",
    "\n",
    "cat_pipeline = Pipeline([\n",
    "    ('selector', DataFrameSelector(categorical_cols)),\n",
    "    ('Encoder', OneHotEncoder(sparse_output = False))\n",
    "    ])\n",
    "    "
   ]
  },
  {
   "cell_type": "code",
   "execution_count": 31,
   "id": "3b93df15-23e8-45c6-8e17-fb4c0b977850",
   "metadata": {},
   "outputs": [],
   "source": [
    "full_pipline = FeatureUnion(transformer_list=[\n",
    "    ('num_pipeline', num_pipeline),\n",
    "    ('cat_pipeline', cat_pipeline)])"
   ]
  },
  {
   "cell_type": "code",
   "execution_count": 32,
   "id": "e7208f37-9d09-4e86-ab4b-5e3815d2243e",
   "metadata": {},
   "outputs": [
    {
     "data": {
      "text/plain": [
       "Index(['brand', 'model', 'year', 'kilometers_driven', 'fuel_type',\n",
       "       'transmission', 'owner_type', 'mileage', 'engine', 'power', 'seats',\n",
       "       'price'],\n",
       "      dtype='object')"
      ]
     },
     "execution_count": 32,
     "metadata": {},
     "output_type": "execute_result"
    }
   ],
   "source": [
    "df.columns"
   ]
  },
  {
   "cell_type": "code",
   "execution_count": 33,
   "id": "8fa4e4dd-67d8-4187-82f3-5b9d1ade0251",
   "metadata": {},
   "outputs": [],
   "source": [
    "X = df[['brand', 'model', 'year', 'kilometers_driven', 'fuel_type',\n",
    "       'transmission', 'owner_type', 'mileage', 'engine', 'power', 'seats']]\n",
    "y = df['price']"
   ]
  },
  {
   "cell_type": "code",
   "execution_count": 34,
   "id": "97dc5ec8-ad56-4fa0-b257-0cc055d1e419",
   "metadata": {},
   "outputs": [],
   "source": [
    "from sklearn.model_selection import train_test_split"
   ]
  },
  {
   "cell_type": "code",
   "execution_count": 35,
   "id": "e2a48a1f-12b2-4e39-ab7d-71934c905cac",
   "metadata": {},
   "outputs": [],
   "source": [
    "X_transformed = full_pipline.fit_transform(X)"
   ]
  },
  {
   "cell_type": "code",
   "execution_count": 36,
   "id": "52b1cf58-3aed-40f6-bbcd-1a4c8bce3a6f",
   "metadata": {},
   "outputs": [
    {
     "data": {
      "text/plain": [
       "array([-0.33468073,  2.40753993, -0.6710571 , -0.56870447, -0.65458965,\n",
       "       -0.30814935,  0.        ,  0.        ,  0.        ,  0.        ,\n",
       "        0.        ,  0.        ,  0.        ,  0.        ,  0.        ,\n",
       "        1.        ,  0.        ,  0.        ,  0.        ,  0.        ,\n",
       "        0.        ,  0.        ,  0.        ,  0.        ,  0.        ,\n",
       "        0.        ,  0.        ,  0.        ,  0.        ,  0.        ,\n",
       "        0.        ,  0.        ,  1.        ,  0.        ,  0.        ,\n",
       "        0.        ,  0.        ,  0.        ,  0.        ,  0.        ,\n",
       "        0.        ,  0.        ,  0.        ,  0.        ,  0.        ,\n",
       "        0.        ,  0.        ,  0.        ,  0.        ,  0.        ,\n",
       "        0.        ,  0.        ,  0.        ,  0.        ,  0.        ,\n",
       "        0.        ,  0.        ,  0.        ,  0.        ,  0.        ,\n",
       "        0.        ,  0.        ,  0.        ,  0.        ,  0.        ,\n",
       "        0.        ,  0.        ,  0.        ,  0.        ,  0.        ,\n",
       "        0.        ,  0.        ,  0.        ,  0.        ,  0.        ,\n",
       "        0.        ,  1.        ,  0.        ,  1.        ,  1.        ,\n",
       "        0.        ,  0.        ])"
      ]
     },
     "execution_count": 36,
     "metadata": {},
     "output_type": "execute_result"
    }
   ],
   "source": [
    "X_transformed[0]"
   ]
  },
  {
   "cell_type": "code",
   "execution_count": 37,
   "id": "f5366922-df36-4a8c-9eb4-31d3042a3caf",
   "metadata": {},
   "outputs": [],
   "source": [
    "X_train, X_test, y_train, y_test = train_test_split(X_transformed, y, \n",
    "                                                    test_size = 0.2)"
   ]
  },
  {
   "cell_type": "code",
   "execution_count": null,
   "id": "e2ab8679-7614-4a85-89ce-3ffdfdd449c5",
   "metadata": {},
   "outputs": [],
   "source": []
  },
  {
   "cell_type": "markdown",
   "id": "d6d96257-de1d-420e-ad2b-8d01312e99d5",
   "metadata": {},
   "source": [
    "Polynomial Regression"
   ]
  },
  {
   "cell_type": "code",
   "execution_count": 38,
   "id": "5b4db49f-da34-4368-82da-4a7d02aad666",
   "metadata": {},
   "outputs": [],
   "source": [
    "from sklearn.preprocessing import PolynomialFeatures\n",
    "from sklearn.metrics import mean_squared_error\n",
    "from sklearn.metrics import r2_score\n",
    "from sklearn.linear_model import LinearRegression"
   ]
  },
  {
   "cell_type": "code",
   "execution_count": 39,
   "id": "94c58584-bc13-4938-acc9-ebd5d5e198d5",
   "metadata": {},
   "outputs": [],
   "source": [
    "features = [2,3,4]\n",
    "\n",
    "mse = []\n",
    "r2 = []\n",
    "\n",
    "for i in features:\n",
    "    poly = PolynomialFeatures(degree=i)\n",
    "    X_poly = poly.fit_transform(X_train)\n",
    "    reg = LinearRegression()\n",
    "    reg.fit(X_poly, y_train)\n",
    "    X_test_poly = poly.transform(X_test)\n",
    "    y_pred = reg.predict(X_test_poly)\n",
    "    mse_i = mean_squared_error(y_test, y_pred)\n",
    "    r2_i = r2_score(y_test, y_pred)\n",
    "    mse.append(mse_i)\n",
    "    r2.append(r2_i)\n",
    "    \n",
    "\n"
   ]
  },
  {
   "cell_type": "code",
   "execution_count": 40,
   "id": "1b5971d4-cf5f-493a-82be-3b396e438978",
   "metadata": {},
   "outputs": [
    {
     "data": {
      "text/plain": [
       "[28981591079.981495, 24958374168.92077, 32901784395.150146]"
      ]
     },
     "execution_count": 40,
     "metadata": {},
     "output_type": "execute_result"
    }
   ],
   "source": [
    "mse"
   ]
  },
  {
   "cell_type": "code",
   "execution_count": 41,
   "id": "ce92b343-b7de-40ac-b73e-8b87709817ca",
   "metadata": {},
   "outputs": [
    {
     "data": {
      "text/plain": [
       "[0.9665860482158511, 0.9712245642832527, 0.9620663118750791]"
      ]
     },
     "execution_count": 41,
     "metadata": {},
     "output_type": "execute_result"
    }
   ],
   "source": [
    "r2"
   ]
  },
  {
   "cell_type": "code",
   "execution_count": 42,
   "id": "2531e3f8-c5d7-4c55-a2eb-9e4fa7873e02",
   "metadata": {},
   "outputs": [
    {
     "data": {
      "text/plain": [
       "[170239.80462859294, 157982.19573395216, 181388.4902499333]"
      ]
     },
     "execution_count": 42,
     "metadata": {},
     "output_type": "execute_result"
    }
   ],
   "source": [
    "rmse = [np.sqrt(i) for i in mse]\n",
    "rmse"
   ]
  },
  {
   "cell_type": "markdown",
   "id": "0c4f5a64-8022-4fce-963a-ff86749bce9c",
   "metadata": {},
   "source": [
    "### The model is predicting the price of used cars with 97% accuracy"
   ]
  },
  {
   "cell_type": "markdown",
   "id": "a13ad56b-8035-417f-ab44-e5c57fc8c548",
   "metadata": {},
   "source": [
    "Visualising the data"
   ]
  },
  {
   "cell_type": "code",
   "execution_count": 45,
   "id": "a13b84e1-0a73-4f1f-9d19-51394195107a",
   "metadata": {},
   "outputs": [],
   "source": [
    "from sklearn.manifold import TSNE"
   ]
  },
  {
   "cell_type": "code",
   "execution_count": 46,
   "id": "fac6a87a-4d0b-49f9-96e8-d5de7f025d1d",
   "metadata": {},
   "outputs": [],
   "source": [
    "tsne = TSNE()"
   ]
  },
  {
   "cell_type": "code",
   "execution_count": 49,
   "id": "13a20024-3f22-4d2f-b02f-7910e8825fc2",
   "metadata": {},
   "outputs": [
    {
     "data": {
      "text/plain": [
       "array([[-360.19122  ,   81.125175 ],\n",
       "       [ 141.96999  ,   -4.903787 ],\n",
       "       [-324.1758   ,    6.992662 ],\n",
       "       [-139.95793  ,   85.53147  ],\n",
       "       [ 183.6498   , -122.497    ],\n",
       "       [-280.951    , -137.42503  ],\n",
       "       [ -45.65191  ,  158.49255  ],\n",
       "       [ 273.75052  ,  133.85661  ],\n",
       "       [ 165.8058   ,  238.39458  ],\n",
       "       [ 251.18832  , -262.82318  ],\n",
       "       [-385.9217   ,  -56.142246 ],\n",
       "       [ -56.894062 , -206.86836  ],\n",
       "       [  66.17442  , -321.5213   ],\n",
       "       [ 251.18832  , -262.82318  ],\n",
       "       [-333.55438  ,  140.53548  ],\n",
       "       [ 181.27634  ,  -64.193115 ],\n",
       "       [ 254.3631   ,  -78.7235   ],\n",
       "       [ 162.9852   , -188.92937  ],\n",
       "       [  72.51634  , -212.79861  ],\n",
       "       [ 235.47725  ,    1.0834666],\n",
       "       [  -2.3464882,   -4.3001113],\n",
       "       [-202.99727  ,  308.58557  ],\n",
       "       [ 409.52997  , -121.285355 ],\n",
       "       [-150.68706  , -257.45505  ],\n",
       "       [-155.81567  ,   -6.5304494],\n",
       "       [-155.81567  ,   -6.5304494],\n",
       "       [  38.36626  ,  164.11633  ],\n",
       "       [  93.1244   , -134.64426  ],\n",
       "       [-112.95495  , -140.15689  ],\n",
       "       [-424.55597  ,  120.47292  ],\n",
       "       [-324.1758   ,    6.992662 ],\n",
       "       [ -84.28757  ,  301.3792   ],\n",
       "       [ 273.75052  ,  133.85661  ],\n",
       "       [ 165.8058   ,  238.39458  ],\n",
       "       [-215.66597  ,   85.6883   ],\n",
       "       [-209.66934  ,  155.86365  ],\n",
       "       [-139.95793  ,   85.53147  ],\n",
       "       [ -78.12106  ,  -70.23989  ],\n",
       "       [ 254.3631   ,  -78.7235   ],\n",
       "       [ 409.52997  , -121.285355 ],\n",
       "       [ 335.82977  , -181.0005   ],\n",
       "       [-202.99727  ,  308.58557  ],\n",
       "       [  66.17442  , -321.5213   ],\n",
       "       [ -64.29858  ,   79.04187  ],\n",
       "       [  93.1244   , -134.64426  ],\n",
       "       [ 338.57205  ,  -74.5714   ],\n",
       "       [ -31.851665 , -285.71597  ],\n",
       "       [ -67.1244   ,  374.69742  ],\n",
       "       [ 170.60204  ,   75.27831  ],\n",
       "       [ 438.5976   ,   18.627945 ],\n",
       "       [-129.96373  ,  367.90598  ],\n",
       "       [ -84.28757  ,  301.3792   ],\n",
       "       [ 373.34036  , -247.5343   ],\n",
       "       [ 335.82977  , -181.0005   ],\n",
       "       [ 250.96312  , -164.04895  ],\n",
       "       [ -78.12106  ,  -70.23989  ],\n",
       "       [   2.484082 , -104.61121  ],\n",
       "       [-287.46802  ,  203.69969  ],\n",
       "       [-248.2483   ,  -35.834442 ],\n",
       "       [ -56.894062 , -206.86836  ],\n",
       "       [  72.51634  , -212.79861  ],\n",
       "       [ 438.5976   ,   18.627945 ],\n",
       "       [ 335.82977  , -181.0005   ],\n",
       "       [-220.53285  ,   31.25244  ],\n",
       "       [-333.55438  ,  140.53548  ],\n",
       "       [ -12.446239 ,  279.38928  ],\n",
       "       [-202.05649  ,  -62.81092  ],\n",
       "       [  -7.13824  ,  343.01718  ],\n",
       "       [ -96.28406  ,   17.195812 ],\n",
       "       [-239.79007  , -193.27498  ],\n",
       "       [ 235.47725  ,    1.0834666],\n",
       "       [-280.951    , -137.42503  ],\n",
       "       [  -2.3464882,   -4.3001113],\n",
       "       [  23.83343  ,   53.535706 ],\n",
       "       [-207.67337  , -122.89486  ],\n",
       "       [ 162.811    , -261.55658  ],\n",
       "       [-385.9217   ,  -56.142246 ],\n",
       "       [  38.36626  ,  164.11633  ],\n",
       "       [  59.57388  ,  -52.74526  ],\n",
       "       [ 141.96999  ,   -4.903787 ]], dtype=float32)"
      ]
     },
     "execution_count": 49,
     "metadata": {},
     "output_type": "execute_result"
    }
   ],
   "source": [
    "tsne_data = tsne.fit_transform(X_train)\n",
    "tsne_data"
   ]
  },
  {
   "cell_type": "code",
   "execution_count": 50,
   "id": "94cc8396-dc0f-438f-9a05-9c282b33f514",
   "metadata": {},
   "outputs": [
    {
     "data": {
      "text/plain": [
       "<matplotlib.collections.PathCollection at 0x13b80c710>"
      ]
     },
     "execution_count": 50,
     "metadata": {},
     "output_type": "execute_result"
    },
    {
     "data": {
      "image/png": "[encoded data removed]",
      "text/plain": [
       "<Figure size 640x480 with 1 Axes>"
      ]
     },
     "metadata": {},
     "output_type": "display_data"
    }
   ],
   "source": [
    "plt.scatter(tsne_data[:,0], tsne_data[: ,1])"
   ]
  },
  {
   "cell_type": "markdown",
   "id": "71417e5f-c2d5-43f8-8264-1fe455054ce4",
   "metadata": {},
   "source": [
    "lets visualize with PCA"
   ]
  },
  {
   "cell_type": "code",
   "execution_count": 51,
   "id": "91e9e43f-8af3-4e84-ab4e-132589cd4c2c",
   "metadata": {},
   "outputs": [],
   "source": [
    "from sklearn.decomposition import PCA"
   ]
  },
  {
   "cell_type": "code",
   "execution_count": 52,
   "id": "725b758f-717a-478b-a78f-6079f9cd0a34",
   "metadata": {},
   "outputs": [],
   "source": [
    "pca = PCA(n_components=2)"
   ]
  },
  {
   "cell_type": "code",
   "execution_count": 53,
   "id": "7002615b-3b7e-4029-a822-cdf33c394c8a",
   "metadata": {},
   "outputs": [],
   "source": [
    "pca_data = pca.fit_transform(X_train)"
   ]
  },
  {
   "cell_type": "code",
   "execution_count": 55,
   "id": "b503307e-2ea7-40a6-96a0-b49887040ab6",
   "metadata": {},
   "outputs": [
    {
     "data": {
      "image/png": "[encoded data removed]",
      "text/plain": [
       "<Figure size 640x480 with 1 Axes>"
      ]
     },
     "metadata": {},
     "output_type": "display_data"
    }
   ],
   "source": [
    "plt.scatter(pca_data[:,0], pca_data[:,1])\n",
    "plt.show()"
   ]
  },
  {
   "cell_type": "code",
   "execution_count": null,
   "id": "55f3d1cf-8777-45b9-92b8-8e6148e79b0a",
   "metadata": {},
   "outputs": [],
   "source": []
  }
 ],
 "metadata": {
  "kernelspec": {
   "display_name": "Python 3 (ipykernel)",
   "language": "python",
   "name": "python3"
  },
  "language_info": {
   "codemirror_mode": {
    "name": "ipython",
    "version": 3
   },
   "file_extension": ".py",
   "mimetype": "text/x-python",
   "name": "python",
   "nbconvert_exporter": "python",
   "pygments_lexer": "ipython3",
   "version": "3.11.1"
  }
 },
 "nbformat": 4,
 "nbformat_minor": 5
}
